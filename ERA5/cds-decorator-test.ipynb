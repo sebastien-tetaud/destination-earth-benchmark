{
 "cells": [
  {
   "cell_type": "code",
   "execution_count": 1,
   "id": "7a0676b6",
   "metadata": {},
   "outputs": [],
   "source": [
    "from utils import CdsERA5, WindSpeedVisualizer"
   ]
  },
  {
   "cell_type": "code",
   "execution_count": null,
   "id": "7a2f16d4",
   "metadata": {},
   "outputs": [],
   "source": [
    "def benchmark(func):\n",
    "\n",
    "    def wrapper(*args, **kwargs):\n",
    "        t1 = time.time()\n",
    "        result = func(*args, **kwargs)\n",
    "        t2 = time.time() - t1\n",
    "\n",
    "        return result\n",
    "    return wrapper"
   ]
  },
  {
   "cell_type": "code",
   "execution_count": 10,
   "id": "8e490695",
   "metadata": {},
   "outputs": [
    {
     "name": "stdout",
     "output_type": "stream",
     "text": [
      "load_config ran in 0.007832765579223633\n"
     ]
    }
   ],
   "source": [
    "config = load_config(file_path=\"config.yaml\")\n",
    "query = config[\"cds_request\"]"
   ]
  },
  {
   "cell_type": "code",
   "execution_count": 11,
   "id": "10392377",
   "metadata": {},
   "outputs": [
    {
     "ename": "AttributeError",
     "evalue": "'function' object has no attribute 'execution_time'",
     "output_type": "error",
     "traceback": [
      "\u001b[0;31m---------------------------------------------------------------------------\u001b[0m",
      "\u001b[0;31mAttributeError\u001b[0m                            Traceback (most recent call last)",
      "Cell \u001b[0;32mIn[11], line 1\u001b[0m\n\u001b[0;32m----> 1\u001b[0m \u001b[38;5;28mprint\u001b[39m(\u001b[38;5;124mf\u001b[39m\u001b[38;5;124m\"\u001b[39m\u001b[38;5;124mExecution time: \u001b[39m\u001b[38;5;132;01m{\u001b[39;00m\u001b[43mload_config\u001b[49m\u001b[38;5;241;43m.\u001b[39;49m\u001b[43mexecution_time\u001b[49m\u001b[38;5;132;01m}\u001b[39;00m\u001b[38;5;124m seconds\u001b[39m\u001b[38;5;124m\"\u001b[39m)\n",
      "\u001b[0;31mAttributeError\u001b[0m: 'function' object has no attribute 'execution_time'"
     ]
    }
   ],
   "source": [
    "print(f\"Execution time: {load_config.execution_time} seconds\")"
   ]
  },
  {
   "cell_type": "code",
   "execution_count": null,
   "id": "921d8a09",
   "metadata": {},
   "outputs": [],
   "source": [
    "cds = CdsERA5()\n",
    "cds.get_data(query=query)\n",
    "cds.download(filename=\"ERA5\")\n",
    "wind_speed, ds = cds.process()"
   ]
  },
  {
   "cell_type": "code",
   "execution_count": null,
   "id": "d69c1a39",
   "metadata": {},
   "outputs": [],
   "source": [
    "wind_anim = WindSpeedVisualizer.plot_wind_speed(wind_speed.sel(time=wind_speed.time[0]))"
   ]
  },
  {
   "cell_type": "code",
   "execution_count": null,
   "id": "cef9e104",
   "metadata": {},
   "outputs": [],
   "source": [
    "wind_anim = WindSpeedVisualizer.generate_animation(wind_speed)"
   ]
  },
  {
   "cell_type": "code",
   "execution_count": null,
   "id": "669f6e7b",
   "metadata": {},
   "outputs": [],
   "source": [
    "wind_anim"
   ]
  }
 ],
 "metadata": {
  "kernelspec": {
   "display_name": "Python 3 (ipykernel)",
   "language": "python",
   "name": "python3"
  },
  "language_info": {
   "codemirror_mode": {
    "name": "ipython",
    "version": 3
   },
   "file_extension": ".py",
   "mimetype": "text/x-python",
   "name": "python",
   "nbconvert_exporter": "python",
   "pygments_lexer": "ipython3",
   "version": "3.11.8"
  }
 },
 "nbformat": 4,
 "nbformat_minor": 5
}
