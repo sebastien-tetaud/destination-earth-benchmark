{
 "cells": [
  {
   "cell_type": "markdown",
   "id": "75985485",
   "metadata": {},
   "source": [
    "## Benchmark Analysis "
   ]
  },
  {
   "cell_type": "markdown",
   "id": "2881bbaf",
   "metadata": {},
   "source": [
    "The main purpose of this notebook is to propose a benchmark strategy for a real use case scenario. We have tested and benchmarked data from three different providers so far:\n",
    "\n",
    "1. Climate Data Store (CDS) - https://github.com/ecmwf/cdsapi\n",
    "\n",
    "2. Google Cloud Platform (GCP) - https://github.com/google-research/arco-era5/blob/main/docs/0-Surface-Reanalysis-Walkthrough.ipynb\n",
    "3. Microsoft Planetary Computer - https://planetarycomputer.microsoft.com/dataset/era5-pds#Example-Notebook\n",
    "4. ToDo: Include benchmarking for AWS - \n",
    "\n",
    "We utilized the Python APIs provided by each of these data sources. To enhance flexibility and support potential future extensions, these APIs have been encapsulated within Python classes.\n",
    "\n",
    "A general configuration file is used to manage and perform the benchmarks according to a specified set of parameters. Each provider has a dedicated Python script that runs the benchmark, returning the results as a JSON file. These JSON files are then analyzed within this notebook."
   ]
  },
  {
   "cell_type": "code",
   "execution_count": 1,
   "id": "5db02c98",
   "metadata": {},
   "outputs": [],
   "source": [
    "import pandas as pd\n",
    "import matplotlib.pyplot as plt\n",
    "import numpy as np"
   ]
  },
  {
   "cell_type": "markdown",
   "id": "ccf7a54c",
   "metadata": {},
   "source": [
    "### Parameters of the benchmark\n",
    "- start: 2020-05-01T00\n",
    "- end: 2020-05-31T00\n",
    "- frequence: \"D\"\n",
    "- variables: [\"10m_u_component_of_wind\",\"10m_v_component_of_wind\"]"
   ]
  },
  {
   "cell_type": "markdown",
   "id": "2e67e41d",
   "metadata": {},
   "source": [
    "### Read benchmark results from all ERA5 data provider"
   ]
  },
  {
   "cell_type": "code",
   "execution_count": 2,
   "id": "1282a11e",
   "metadata": {},
   "outputs": [
    {
     "data": {
      "text/html": [
       "<div>\n",
       "<style scoped>\n",
       "    .dataframe tbody tr th:only-of-type {\n",
       "        vertical-align: middle;\n",
       "    }\n",
       "\n",
       "    .dataframe tbody tr th {\n",
       "        vertical-align: top;\n",
       "    }\n",
       "\n",
       "    .dataframe thead th {\n",
       "        text-align: right;\n",
       "    }\n",
       "</style>\n",
       "<table border=\"1\" class=\"dataframe\">\n",
       "  <thead>\n",
       "    <tr style=\"text-align: right;\">\n",
       "      <th></th>\n",
       "      <th>download_time</th>\n",
       "      <th>data_processing</th>\n",
       "      <th>animation</th>\n",
       "      <th>end_to_end</th>\n",
       "      <th>request_issues</th>\n",
       "      <th>provider</th>\n",
       "      <th>end_to_end_std</th>\n",
       "    </tr>\n",
       "  </thead>\n",
       "  <tbody>\n",
       "    <tr>\n",
       "      <th>0</th>\n",
       "      <td>3.369000</td>\n",
       "      <td>1.588886</td>\n",
       "      <td>47.556538</td>\n",
       "      <td>52.754421</td>\n",
       "      <td>0</td>\n",
       "      <td>CDS</td>\n",
       "      <td>0.181518</td>\n",
       "    </tr>\n",
       "    <tr>\n",
       "      <th>1</th>\n",
       "      <td>4.394368</td>\n",
       "      <td>0.771941</td>\n",
       "      <td>47.586449</td>\n",
       "      <td>52.911372</td>\n",
       "      <td>0</td>\n",
       "      <td>CDS</td>\n",
       "      <td>0.181518</td>\n",
       "    </tr>\n",
       "    <tr>\n",
       "      <th>2</th>\n",
       "      <td>3.979126</td>\n",
       "      <td>0.766643</td>\n",
       "      <td>48.171922</td>\n",
       "      <td>53.116394</td>\n",
       "      <td>0</td>\n",
       "      <td>CDS</td>\n",
       "      <td>0.181518</td>\n",
       "    </tr>\n",
       "    <tr>\n",
       "      <th>0</th>\n",
       "      <td>43.191198</td>\n",
       "      <td>0.077644</td>\n",
       "      <td>47.329433</td>\n",
       "      <td>90.598276</td>\n",
       "      <td>0</td>\n",
       "      <td>Google</td>\n",
       "      <td>0.579742</td>\n",
       "    </tr>\n",
       "    <tr>\n",
       "      <th>1</th>\n",
       "      <td>42.728662</td>\n",
       "      <td>0.071511</td>\n",
       "      <td>48.275104</td>\n",
       "      <td>91.075277</td>\n",
       "      <td>0</td>\n",
       "      <td>Google</td>\n",
       "      <td>0.579742</td>\n",
       "    </tr>\n",
       "    <tr>\n",
       "      <th>2</th>\n",
       "      <td>42.627347</td>\n",
       "      <td>0.081063</td>\n",
       "      <td>47.213132</td>\n",
       "      <td>89.921541</td>\n",
       "      <td>0</td>\n",
       "      <td>Google</td>\n",
       "      <td>0.579742</td>\n",
       "    </tr>\n",
       "    <tr>\n",
       "      <th>0</th>\n",
       "      <td>45.433425</td>\n",
       "      <td>0.073563</td>\n",
       "      <td>47.619587</td>\n",
       "      <td>95.937737</td>\n",
       "      <td>0</td>\n",
       "      <td>Microsoft</td>\n",
       "      <td>2.999463</td>\n",
       "    </tr>\n",
       "    <tr>\n",
       "      <th>1</th>\n",
       "      <td>43.329110</td>\n",
       "      <td>0.071653</td>\n",
       "      <td>47.445582</td>\n",
       "      <td>92.805022</td>\n",
       "      <td>0</td>\n",
       "      <td>Microsoft</td>\n",
       "      <td>2.999463</td>\n",
       "    </tr>\n",
       "    <tr>\n",
       "      <th>2</th>\n",
       "      <td>40.394441</td>\n",
       "      <td>0.069460</td>\n",
       "      <td>47.643892</td>\n",
       "      <td>89.940814</td>\n",
       "      <td>0</td>\n",
       "      <td>Microsoft</td>\n",
       "      <td>2.999463</td>\n",
       "    </tr>\n",
       "  </tbody>\n",
       "</table>\n",
       "</div>"
      ],
      "text/plain": [
       "   download_time  data_processing  animation  end_to_end  request_issues  \\\n",
       "0       3.369000         1.588886  47.556538   52.754421               0   \n",
       "1       4.394368         0.771941  47.586449   52.911372               0   \n",
       "2       3.979126         0.766643  48.171922   53.116394               0   \n",
       "0      43.191198         0.077644  47.329433   90.598276               0   \n",
       "1      42.728662         0.071511  48.275104   91.075277               0   \n",
       "2      42.627347         0.081063  47.213132   89.921541               0   \n",
       "0      45.433425         0.073563  47.619587   95.937737               0   \n",
       "1      43.329110         0.071653  47.445582   92.805022               0   \n",
       "2      40.394441         0.069460  47.643892   89.940814               0   \n",
       "\n",
       "    provider  end_to_end_std  \n",
       "0        CDS        0.181518  \n",
       "1        CDS        0.181518  \n",
       "2        CDS        0.181518  \n",
       "0     Google        0.579742  \n",
       "1     Google        0.579742  \n",
       "2     Google        0.579742  \n",
       "0  Microsoft        2.999463  \n",
       "1  Microsoft        2.999463  \n",
       "2  Microsoft        2.999463  "
      ]
     },
     "execution_count": 2,
     "metadata": {},
     "output_type": "execute_result"
    }
   ],
   "source": [
    "df_cds = pd.read_json(\"results/cds/cds_benchmark.json\")\n",
    "df_cds[\"provider\"] = \"CDS\"\n",
    "df_cds[\"end_to_end_std\"] = df_cds[\"end_to_end\"].std()\n",
    "df_gcp = pd.read_json(\"results/gcp/gcp_benchmark.json\")\n",
    "df_gcp[\"end_to_end_std\"] = df_gcp[\"end_to_end\"].std()\n",
    "df_gcp[\"provider\"] = \"Google\"\n",
    "df_m = pd.read_json(\"results/microsoft/gcp_benchmark.json\")\n",
    "df_m[\"end_to_end_std\"] = df_m[\"end_to_end\"].std()\n",
    "df_m[\"provider\"] = \"Microsoft\"\n",
    "df = pd.concat([df_cds, df_gcp, df_m ], axis=0)\n",
    "df"
   ]
  },
  {
   "cell_type": "markdown",
   "id": "668a125a",
   "metadata": {},
   "source": [
    "Compute the mean value for each data provider"
   ]
  },
  {
   "cell_type": "code",
   "execution_count": 3,
   "id": "827e70f6",
   "metadata": {},
   "outputs": [
    {
     "data": {
      "text/html": [
       "<div>\n",
       "<style scoped>\n",
       "    .dataframe tbody tr th:only-of-type {\n",
       "        vertical-align: middle;\n",
       "    }\n",
       "\n",
       "    .dataframe tbody tr th {\n",
       "        vertical-align: top;\n",
       "    }\n",
       "\n",
       "    .dataframe thead th {\n",
       "        text-align: right;\n",
       "    }\n",
       "</style>\n",
       "<table border=\"1\" class=\"dataframe\">\n",
       "  <thead>\n",
       "    <tr style=\"text-align: right;\">\n",
       "      <th></th>\n",
       "      <th>provider</th>\n",
       "      <th>download_time</th>\n",
       "      <th>data_processing</th>\n",
       "      <th>animation</th>\n",
       "      <th>end_to_end</th>\n",
       "      <th>request_issues</th>\n",
       "      <th>end_to_end_std</th>\n",
       "    </tr>\n",
       "  </thead>\n",
       "  <tbody>\n",
       "    <tr>\n",
       "      <th>0</th>\n",
       "      <td>CDS</td>\n",
       "      <td>3.914165</td>\n",
       "      <td>1.042490</td>\n",
       "      <td>47.771637</td>\n",
       "      <td>52.927395</td>\n",
       "      <td>0.0</td>\n",
       "      <td>0.181518</td>\n",
       "    </tr>\n",
       "    <tr>\n",
       "      <th>1</th>\n",
       "      <td>Google</td>\n",
       "      <td>42.849069</td>\n",
       "      <td>0.076739</td>\n",
       "      <td>47.605890</td>\n",
       "      <td>90.531698</td>\n",
       "      <td>0.0</td>\n",
       "      <td>0.579742</td>\n",
       "    </tr>\n",
       "    <tr>\n",
       "      <th>2</th>\n",
       "      <td>Microsoft</td>\n",
       "      <td>43.052325</td>\n",
       "      <td>0.071559</td>\n",
       "      <td>47.569687</td>\n",
       "      <td>92.894524</td>\n",
       "      <td>0.0</td>\n",
       "      <td>2.999463</td>\n",
       "    </tr>\n",
       "  </tbody>\n",
       "</table>\n",
       "</div>"
      ],
      "text/plain": [
       "    provider  download_time  data_processing  animation  end_to_end  \\\n",
       "0        CDS       3.914165         1.042490  47.771637   52.927395   \n",
       "1     Google      42.849069         0.076739  47.605890   90.531698   \n",
       "2  Microsoft      43.052325         0.071559  47.569687   92.894524   \n",
       "\n",
       "   request_issues  end_to_end_std  \n",
       "0             0.0        0.181518  \n",
       "1             0.0        0.579742  \n",
       "2             0.0        2.999463  "
      ]
     },
     "execution_count": 3,
     "metadata": {},
     "output_type": "execute_result"
    }
   ],
   "source": [
    "df = df.groupby('provider').mean().reset_index()\n",
    "df"
   ]
  },
  {
   "cell_type": "markdown",
   "id": "3cdbd11e",
   "metadata": {},
   "source": [
    "### Plot data provider benchnark result\n"
   ]
  },
  {
   "cell_type": "code",
   "execution_count": 4,
   "id": "75ab3f72",
   "metadata": {},
   "outputs": [
    {
     "data": {
      "image/png": "[encoded data removed]",
      "text/plain": [
       "<Figure size 1600x800 with 1 Axes>"
      ]
     },
     "metadata": {},
     "output_type": "display_data"
    }
   ],
   "source": [
    "errors = df['end_to_end_std']\n",
    "# Plotting the stacked bar chart without 'end_to_end'\n",
    "df_plot = df.drop(columns=['end_to_end', 'end_to_end_std','request_issues'])\n",
    "df_plot.plot(kind='bar', stacked=True, figsize=(16, 8))\n",
    "\n",
    "# Overlay 'end_to_end' with error bars\n",
    "x = np.arange(len(df))\n",
    "plt.errorbar(x, df['end_to_end'], yerr=errors, fmt='o', color='black', capsize=5)\n",
    "\n",
    "# Set labels and title\n",
    "plt.ylabel('Time (seconds)')\n",
    "plt.title('End to End ERA5 single level benchmark')\n",
    "plt.xlabel(\"Provider\")\n",
    "\n",
    "# Adding city names as x-tick labels\n",
    "plt.xticks(x, df['provider'])\n",
    "\n",
    "# Display legend\n",
    "plt.legend(loc='upper right')\n",
    "\n",
    "# Save the figure\n",
    "plt.show()"
   ]
  },
  {
   "cell_type": "code",
   "execution_count": 5,
   "id": "cb35f384",
   "metadata": {},
   "outputs": [
    {
     "data": {
      "image/png": "[encoded data removed]",
      "text/plain": [
       "<Figure size 1600x800 with 1 Axes>"
      ]
     },
     "metadata": {},
     "output_type": "display_data"
    }
   ],
   "source": [
    "# Plotting the stacked bar chart without 'end_to_end'\n",
    "df_plot = df.drop(columns=['end_to_end', 'end_to_end_std',\"animation\"])\n",
    "df_plot.plot(kind='bar', stacked=True, figsize=(16, 8))\n",
    "# Set labels and title\n",
    "plt.ylabel('Time (seconds)')\n",
    "plt.title('End to End ERA5 single level benchmark')\n",
    "plt.xlabel(\"Provider\")\n",
    "# Adding city names as x-tick labels\n",
    "plt.xticks(x, df['provider'])\n",
    "# Display legend\n",
    "plt.legend(loc='upper right')\n",
    "# Save the figure\n",
    "plt.show()"
   ]
  },
  {
   "cell_type": "markdown",
   "id": "86ebe157",
   "metadata": {},
   "source": [
    "- Processing Time: The Climate Data Store (CDS) is approximately 10 times slower than Google Cloud Platform (GCP) and Microsoft Planetary Computer. This is primarily because CDS data needs to be opened and loaded into memory using Xarray.\n",
    "\n",
    "- Data Access Strategy: The main difference between CDS and the other providers lies in their data access strategies. For Microsoft and Google, users directly access a Zarr dataset, allowing for immediate and efficient data manipulation. In contrast, CDS data must be downloaded and is subject to a request queue, which can introduce significant delays.\n",
    "\n",
    "- Download Speed: Download speeds are generally faster for GCP and Microsoft compared to CDS. This discrepancy may be due to the geographical location of the CDS servers or their data delivery infrastructure.\n",
    "\n",
    "- Animation Consistency: Animation performance is consistent across all three providers since the input data are identical.\n",
    "\n",
    "- Data Processing: Data processing is slower with CDS because it requires the data to be read into memory using Xarray. In contrast, with Google and Microsoft, the data is directly accessible in memory through Zarr, which speeds up the processing."
   ]
  },
  {
   "cell_type": "markdown",
   "id": "39f1b8fb",
   "metadata": {},
   "source": [
    "## Size verification and data shape"
   ]
  },
  {
   "cell_type": "code",
   "execution_count": 6,
   "id": "692970a0",
   "metadata": {},
   "outputs": [],
   "source": [
    "from utils import (load_config, PlanetaryComputerERA5,\n",
    "                    CdsERA5, GcpERA5, WindSpeedVisualizer)\n",
    "import time"
   ]
  },
  {
   "cell_type": "code",
   "execution_count": 7,
   "id": "3c1ea63c",
   "metadata": {},
   "outputs": [],
   "source": [
    "config = load_config(\"config.yaml\")"
   ]
  },
  {
   "cell_type": "markdown",
   "id": "d426431d",
   "metadata": {},
   "source": [
    "### CDS"
   ]
  },
  {
   "cell_type": "code",
   "execution_count": 8,
   "id": "b83d5c48",
   "metadata": {},
   "outputs": [
    {
     "name": "stderr",
     "output_type": "stream",
     "text": [
      "\u001b[32m2024-07-09 13:46:56.546\u001b[0m | \u001b[1mINFO    \u001b[0m | \u001b[36mutils\u001b[0m:\u001b[36m__init__\u001b[0m:\u001b[36m141\u001b[0m - \u001b[1mSuccessfully log to Climate Data Store\u001b[0m\n",
      "2024-07-09 13:46:56,648 INFO Welcome to the CDS\n",
      "2024-07-09 13:46:56,649 INFO Sending request to https://cds.climate.copernicus.eu/api/v2/resources/reanalysis-era5-single-levels\n",
      "2024-07-09 13:46:56,702 INFO Request is completed\n",
      "\u001b[32m2024-07-09 13:46:56.703\u001b[0m | \u001b[1mINFO    \u001b[0m | \u001b[36mutils\u001b[0m:\u001b[36mwrapper\u001b[0m:\u001b[36m33\u001b[0m - \u001b[1mget_data ran in 0.15621137619018555 seconds\u001b[0m\n",
      "2024-07-09 13:46:56,704 INFO Downloading https://download-0000-clone.copernicus-climate.eu/cache-compute-0000/cache/data9/adaptor.mars.internal-1720524293.2922404-2913-13-62aa85f3-3be7-42f2-8df0-13728956f836.grib to ERA5.grib (122.8M)\n",
      "2024-07-09 13:47:01,714 INFO Download rate 24.5M/s \n",
      "\u001b[32m2024-07-09 13:47:01.715\u001b[0m | \u001b[1mINFO    \u001b[0m | \u001b[36mutils\u001b[0m:\u001b[36mwrapper\u001b[0m:\u001b[36m33\u001b[0m - \u001b[1mdownload ran in 5.011176109313965 seconds\u001b[0m\n",
      "Ignoring index file 'ERA5.grib.9093e.idx' older than GRIB file\n",
      "\u001b[32m2024-07-09 13:47:03.324\u001b[0m | \u001b[1mINFO    \u001b[0m | \u001b[36mutils\u001b[0m:\u001b[36mwrapper\u001b[0m:\u001b[36m33\u001b[0m - \u001b[1mprocess ran in 1.6087698936462402 seconds\u001b[0m\n",
      "\u001b[32m2024-07-09 13:47:50.912\u001b[0m | \u001b[1mINFO    \u001b[0m | \u001b[36mutils\u001b[0m:\u001b[36mwrapper\u001b[0m:\u001b[36m33\u001b[0m - \u001b[1mgenerate_animation ran in 47.58634853363037 seconds\u001b[0m\n"
     ]
    },
    {
     "name": "stdout",
     "output_type": "stream",
     "text": [
      "End to End duration 54.36771321296692\n"
     ]
    }
   ],
   "source": [
    "query = config[\"cds_request\"]\n",
    "start = time.time()\n",
    "cds = CdsERA5()\n",
    "cds.get_data(query=query)\n",
    "cds.download(filename=\"ERA5\")\n",
    "wind_speed_cds, ds = cds.process()\n",
    "wind_anim_cds = WindSpeedVisualizer.generate_animation(wind_speed_cds)\n",
    "end = time.time()\n",
    "print(f\"End to End duration {end-start}\")"
   ]
  },
  {
   "cell_type": "code",
   "execution_count": 9,
   "id": "d218a707",
   "metadata": {},
   "outputs": [
    {
     "name": "stdout",
     "output_type": "stream",
     "text": [
      "End to End duration 54.36771321296692 seconds\n",
      "Shape of CDS dataset: Frozen({'time': 31, 'latitude': 721, 'longitude': 1440})\n",
      "CDS Dataset Size: 122.7777099609375 MB\n"
     ]
    }
   ],
   "source": [
    "print(f\"End to End duration {end-start} seconds\" )\n",
    "print(f\"Shape of CDS dataset: {wind_speed_cds.sizes}\")\n",
    "print(f\"CDS Dataset Size: {wind_speed_cds.nbytes / (1024*1024)} MB\")"
   ]
  },
  {
   "cell_type": "markdown",
   "id": "874eef9a",
   "metadata": {},
   "source": [
    "### GCP"
   ]
  },
  {
   "cell_type": "code",
   "execution_count": 10,
   "id": "6fb03ec1",
   "metadata": {},
   "outputs": [
    {
     "name": "stderr",
     "output_type": "stream",
     "text": [
      "\u001b[32m2024-07-09 13:47:55.114\u001b[0m | \u001b[1mINFO    \u001b[0m | \u001b[36mutils\u001b[0m:\u001b[36m__init__\u001b[0m:\u001b[36m190\u001b[0m - \u001b[1mERA5 reanalysis data loaded successfully from gs://gcp-public-data-arco-era5/ar/1959-2022-full_37-1h-0p25deg-chunk-1.zarr-v2\u001b[0m\n",
      "\u001b[32m2024-07-09 13:47:55.127\u001b[0m | \u001b[1mINFO    \u001b[0m | \u001b[36mutils\u001b[0m:\u001b[36mget_data\u001b[0m:\u001b[36m210\u001b[0m - \u001b[1mData slice selected for date range\u001b[0m\n",
      "\u001b[32m2024-07-09 13:47:55.127\u001b[0m | \u001b[1mINFO    \u001b[0m | \u001b[36mutils\u001b[0m:\u001b[36mwrapper\u001b[0m:\u001b[36m33\u001b[0m - \u001b[1mget_data ran in 0.012389898300170898 seconds\u001b[0m\n",
      "\u001b[32m2024-07-09 13:48:38.773\u001b[0m | \u001b[1mINFO    \u001b[0m | \u001b[36mutils\u001b[0m:\u001b[36mwrapper\u001b[0m:\u001b[36m33\u001b[0m - \u001b[1mdownload ran in 43.6448335647583 seconds\u001b[0m\n",
      "\u001b[32m2024-07-09 13:48:38.844\u001b[0m | \u001b[1mINFO    \u001b[0m | \u001b[36mutils\u001b[0m:\u001b[36mcalculate_wind_speed\u001b[0m:\u001b[36m235\u001b[0m - \u001b[1mWind speed calculated successfully\u001b[0m\n",
      "\u001b[32m2024-07-09 13:48:38.845\u001b[0m | \u001b[1mINFO    \u001b[0m | \u001b[36mutils\u001b[0m:\u001b[36mwrapper\u001b[0m:\u001b[36m33\u001b[0m - \u001b[1mcalculate_wind_speed ran in 0.07121634483337402 seconds\u001b[0m\n",
      "\u001b[32m2024-07-09 13:49:26.489\u001b[0m | \u001b[1mINFO    \u001b[0m | \u001b[36mutils\u001b[0m:\u001b[36mwrapper\u001b[0m:\u001b[36m33\u001b[0m - \u001b[1mgenerate_animation ran in 47.64336085319519 seconds\u001b[0m\n"
     ]
    }
   ],
   "source": [
    "query = config[\"gcp_request\"]\n",
    "url_dataset = query[\"url_dataset\"]\n",
    "start_date = query[\"start\"]\n",
    "end = query[\"end\"]\n",
    "frequence = query[\"frequence\"]\n",
    "variables = query[\"variables\"]\n",
    "start = time.time()\n",
    "gcp = GcpERA5(url_dataset)\n",
    "date_range = pd.date_range(start_date, end, freq=frequence)\n",
    "gcp.get_data(date_range=date_range, variables=variables)\n",
    "gcp.download()\n",
    "wind_speed_gcp, ds_gcp = gcp.calculate_wind_speed()\n",
    "wind_anim = WindSpeedVisualizer.generate_animation(wind_speed_gcp)\n",
    "end = time.time()"
   ]
  },
  {
   "cell_type": "code",
   "execution_count": 11,
   "id": "eeceb7ed",
   "metadata": {},
   "outputs": [
    {
     "name": "stdout",
     "output_type": "stream",
     "text": [
      "End to End duration 95.5658802986145\n",
      "Shape of GCP dataset: Frozen({'time': 31, 'latitude': 721, 'longitude': 1440})\n",
      "GCP Dataset Size: 122.7777099609375 MB\n"
     ]
    }
   ],
   "source": [
    "print(f\"End to End duration {end-start}\")\n",
    "print(f\"Shape of GCP dataset: {wind_speed_gcp.sizes}\")\n",
    "print(f\"GCP Dataset Size: {wind_speed_gcp.nbytes / (1024*1024)} MB\")"
   ]
  },
  {
   "cell_type": "markdown",
   "id": "3b69f211",
   "metadata": {},
   "source": [
    "### Microsoft"
   ]
  },
  {
   "cell_type": "code",
   "execution_count": 12,
   "id": "a02d29d0",
   "metadata": {},
   "outputs": [
    {
     "name": "stderr",
     "output_type": "stream",
     "text": [
      "\u001b[32m2024-07-09 13:49:26.669\u001b[0m | \u001b[1mINFO    \u001b[0m | \u001b[36mutils\u001b[0m:\u001b[36m__init__\u001b[0m:\u001b[36m257\u001b[0m - \u001b[1mAccess to ERA5 reanalysis successfully from https://planetarycomputer.microsoft.com/api/stac/v1/\u001b[0m\n",
      "/home/ubuntu/miniconda3/envs/env/lib/python3.11/site-packages/pystac_client/item_search.py:851: FutureWarning: get_all_items() is deprecated, use item_collection() instead.\n",
      "  warnings.warn(\n",
      "\u001b[32m2024-07-09 13:49:28.796\u001b[0m | \u001b[1mINFO    \u001b[0m | \u001b[36mutils\u001b[0m:\u001b[36mwrapper\u001b[0m:\u001b[36m33\u001b[0m - \u001b[1mget_data ran in 2.1247498989105225 seconds\u001b[0m\n",
      "\u001b[32m2024-07-09 13:50:10.372\u001b[0m | \u001b[1mINFO    \u001b[0m | \u001b[36mutils\u001b[0m:\u001b[36mwrapper\u001b[0m:\u001b[36m33\u001b[0m - \u001b[1mdownload ran in 41.5743191242218 seconds\u001b[0m\n",
      "\u001b[32m2024-07-09 13:50:10.443\u001b[0m | \u001b[1mINFO    \u001b[0m | \u001b[36mutils\u001b[0m:\u001b[36mcalculate_wind_speed\u001b[0m:\u001b[36m297\u001b[0m - \u001b[1mWind speed calculated successfully from regridded dataset\u001b[0m\n",
      "\u001b[32m2024-07-09 13:50:10.444\u001b[0m | \u001b[1mINFO    \u001b[0m | \u001b[36mutils\u001b[0m:\u001b[36mwrapper\u001b[0m:\u001b[36m33\u001b[0m - \u001b[1mcalculate_wind_speed ran in 0.07119178771972656 seconds\u001b[0m\n",
      "\u001b[32m2024-07-09 13:50:57.860\u001b[0m | \u001b[1mINFO    \u001b[0m | \u001b[36mutils\u001b[0m:\u001b[36mwrapper\u001b[0m:\u001b[36m33\u001b[0m - \u001b[1mgenerate_animation ran in 47.41603064537048 seconds\u001b[0m\n"
     ]
    }
   ],
   "source": [
    "query = config[\"microsoft\"]\n",
    "url_dataset = query[\"url_dataset\"]\n",
    "start_date = query[\"start\"]\n",
    "end = query[\"end\"]\n",
    "frequence = query[\"frequence\"]\n",
    "variables = query[\"variables\"]\n",
    "start = time.time()\n",
    "pc = PlanetaryComputerERA5(url_dataset)\n",
    "date_range = pd.date_range(start_date, end, freq=frequence)\n",
    "variables=[\"northward_wind_at_10_metres\",\"eastward_wind_at_10_metres\"]\n",
    "pc.get_data(date_range=date_range, variables=variables)\n",
    "pc.download()\n",
    "wind_speed_pc, ds_pc = pc.calculate_wind_speed()\n",
    "wind_anim = WindSpeedVisualizer.generate_animation(wind_speed_pc)\n",
    "end = time.time()"
   ]
  },
  {
   "cell_type": "code",
   "execution_count": 13,
   "id": "f5c665c4",
   "metadata": {},
   "outputs": [
    {
     "name": "stdout",
     "output_type": "stream",
     "text": [
      "End to End duration 91.35996866226196\n",
      "Shape of Microsoft dataset: Frozen({'time': 31, 'lat': 721, 'lon': 1440})\n",
      "Microsoft Dataset Size: 122.7777099609375 MB\n"
     ]
    }
   ],
   "source": [
    "print(f\"End to End duration {end-start}\")\n",
    "print(f\"Shape of Microsoft dataset: {wind_speed_pc.sizes}\")\n",
    "print(f\"Microsoft Dataset Size: {wind_speed_pc.nbytes / (1024*1024)} MB\")"
   ]
  }
 ],
 "metadata": {
  "kernelspec": {
   "display_name": "Python 3 (ipykernel)",
   "language": "python",
   "name": "python3"
  },
  "language_info": {
   "codemirror_mode": {
    "name": "ipython",
    "version": 3
   },
   "file_extension": ".py",
   "mimetype": "text/x-python",
   "name": "python",
   "nbconvert_exporter": "python",
   "pygments_lexer": "ipython3",
   "version": "3.11.8"
  }
 },
 "nbformat": 4,
 "nbformat_minor": 5
}
